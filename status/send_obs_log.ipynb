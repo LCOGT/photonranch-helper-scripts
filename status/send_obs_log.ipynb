{
 "cells": [
  {
   "cell_type": "code",
   "execution_count": null,
   "metadata": {},
   "outputs": [],
   "source": []
  }
 ],
 "metadata": {
  "kernelspec": {
   "display_name": "venv",
   "language": "python",
   "name": "python3"
  },
  "language_info": {
   "name": "python",
   "version": "3.9.14"
  },
  "orig_nbformat": 4,
  "vscode": {
   "interpreter": {
    "hash": "5906055bdcb3079f9de1938cb59e8ee1a9ccb9df31b4c1bbc34b02f59e162698"
   }
  }
 },
 "nbformat": 4,
 "nbformat_minor": 2
}
