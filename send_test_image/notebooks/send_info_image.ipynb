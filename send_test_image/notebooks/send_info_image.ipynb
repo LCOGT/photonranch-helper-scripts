{
 "cells": [
  {
   "cell_type": "code",
   "execution_count": 7,
   "metadata": {},
   "outputs": [
    {
     "name": "stdout",
     "output_type": "stream",
     "text": [
      "204\n"
     ]
    }
   ],
   "source": [
    "import requests, json\n",
    "\n",
    "# destination_filename should have the same format as normal jpgs.\n",
    "# like '{site}-{inst}-{yyyymmdd}-{8 digit number}-E10.jpg'\n",
    "# This is used to determine the site to send to. \n",
    "def upload_info_image(destination_filename, path_to_local_jpg, info_channel=1):\n",
    "    request_body = {'object_name': destination_filename, 's3_directory': 'info-images', 'info_channel': info_channel}\n",
    "    # Call this to get the url used to upload to s3 (just like normal images)\n",
    "    api_endpoint = \"https://api.photonranch.org/api/upload\"\n",
    "    response = requests.post(api_endpoint, json.dumps(request_body)).json()\n",
    "    upload_url = response[\"url\"]\n",
    "    upload_fields = response[\"fields\"]\n",
    "    \n",
    "    with open(path_to_local_jpg, 'rb') as jpg:\n",
    "        img_file = {'file': (destination_filename, jpg)}\n",
    "        upload_response = requests.post(upload_url, upload_fields, files=img_file)\n",
    "    \n",
    "    if upload_response.status_code == 204:\n",
    "        print(\"Info image sent successfully\")\n",
    "    else:\n",
    "        print(\"Info image failed to upload: \", upload_response)\n",
    "\n",
    "# Examples\n",
    "path_to_local_jpg = \"./../generated_files/generated.jpg\"\n",
    "destination_filename = \"tst-inst-20230306-00000320-E10.jpg\"\n",
    "upload_info_image(destination_filename, path_to_local_jpg)\n",
    "\n"
   ]
  },
  {
   "cell_type": "code",
   "execution_count": null,
   "metadata": {},
   "outputs": [],
   "source": []
  }
 ],
 "metadata": {
  "kernelspec": {
   "display_name": "venv",
   "language": "python",
   "name": "python3"
  },
  "language_info": {
   "codemirror_mode": {
    "name": "ipython",
    "version": 3
   },
   "file_extension": ".py",
   "mimetype": "text/x-python",
   "name": "python",
   "nbconvert_exporter": "python",
   "pygments_lexer": "ipython3",
   "version": "3.9.16"
  },
  "orig_nbformat": 4,
  "vscode": {
   "interpreter": {
    "hash": "5906055bdcb3079f9de1938cb59e8ee1a9ccb9df31b4c1bbc34b02f59e162698"
   }
  }
 },
 "nbformat": 4,
 "nbformat_minor": 2
}
