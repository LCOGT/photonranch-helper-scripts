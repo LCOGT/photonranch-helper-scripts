{
 "cells": [
  {
   "cell_type": "code",
   "execution_count": 10,
   "metadata": {},
   "outputs": [],
   "source": [
    "import boto3\n",
    "\n",
    "# This looks for ddb table items that are missing a certain key, and adds a default value to those items.\n",
    "# Fixes a problem we had that broke the delete projects endpoint because old projects didn't have an expected key.\n",
    "def add_default_value(table_name, key_name, default_value):\n",
    "    dynamodb = boto3.resource('dynamodb')\n",
    "    table = dynamodb.Table(table_name)\n",
    "\n",
    "    response = table.scan()\n",
    "    items = response['Items']\n",
    "\n",
    "    while 'LastEvaluatedKey' in response:\n",
    "        response = table.scan(ExclusiveStartKey=response['LastEvaluatedKey'])\n",
    "        items.extend(response['Items'])\n",
    "\n",
    "    for item in items:\n",
    "        if key_name not in item:\n",
    "            item[key_name] = default_value\n",
    "            table.put_item(Item=item)\n",
    "\n",
    "\n",
    "# Usage\n",
    "table_name = 'projects-prod'\n",
    "key_name = 'scheduled_with_events'\n",
    "default_value = []\n",
    "\n",
    "#add_default_value(table_name, key_name, default_value)\n"
   ]
  },
  {
   "cell_type": "code",
   "execution_count": null,
   "metadata": {},
   "outputs": [],
   "source": []
  }
 ],
 "metadata": {
  "kernelspec": {
   "display_name": "venv",
   "language": "python",
   "name": "python3"
  },
  "language_info": {
   "codemirror_mode": {
    "name": "ipython",
    "version": 3
   },
   "file_extension": ".py",
   "mimetype": "text/x-python",
   "name": "python",
   "nbconvert_exporter": "python",
   "pygments_lexer": "ipython3",
   "version": "3.9.16"
  },
  "orig_nbformat": 4,
  "vscode": {
   "interpreter": {
    "hash": "fefb384362d80de8a455f5800c34ba3ab15dc53f58e43672afe27647b4796d05"
   }
  }
 },
 "nbformat": 4,
 "nbformat_minor": 2
}
